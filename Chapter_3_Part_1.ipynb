{
 "cells": [
  {
   "cell_type": "markdown",
   "id": "b49f8790",
   "metadata": {},
   "source": [
    "<center>\n",
    "    <h1> DATA SCIENTIST\n",
    "    </h1>\n",
    "    <h2>CHAPTER 3\n",
    "    </h2>\n",
    "\n",
    "</center>\n",
    "\n",
    "---\n",
    "\n",
    "* Họ và tên: Trần Việt Dũng\n",
    "* Mã sinh viên: 20201050878\n",
    "* Lớp: Khoa học máy tính 65B\n",
    "\n",
    "---\n",
    "* NOTE :\n",
    "\n",
    "* Hàm len() trả về số lượng phần tử hoặc ký tự có trong đối tượng đó.\n",
    "\n",
    "* Hàm lower() sử dụng trên chuỗi (string) để chuyển tất cả các ký tự trong chuỗi thành chữ thường (chữ viết thường)\n",
    "\n",
    "* Hàm split() sử dụng để tách một chuỗi thành một danh sách các chuỗi con dựa trên một dấu phân cách (hoặc một chuỗi phân tách khác)\n",
    "* Ví dụ: cau = doan_van.split('.') tách dấu chấm, .split() tách khoảng cách.\n",
    "\n",
    "* Hàm isalnum() trong Python là một phương thức chuỗi được sử dụng để kiểm tra xem mọi ký tự trong chuỗi có phải là chữ cái hoặc số không. Nó trả về True nếu tất cả các ký tự trong chuỗi đều là chữ cái hoặc số và False nếu có ít nhất một ký tự không phải chữ cái hoặc số. Cú pháp chuoi.isalnum()\n",
    "\n",
    "* Phương thức replace() làm việc trên chuỗi gốc và không làm thay đổi nó, mà tạo ra một chuỗi mới sau khi thay thế. Cú pháp : chuoi.replace(\"kí tự cần thay thế\", \"kí tự thay thế\")\n",
    "\n",
    "* Phương thức count() làm việc trên chuỗi gốc và không làm thay đổi nó. Được sử dụng đếm số lần xuất hiện của một từ hoặc chuỗi con cụ thể trong một văn bản hoặc chuỗi. Cú pháp : chuoi.count('x') \n",
    "\n",
    "* Phương thức pop() dùng để loại bỏ và trả về phần tử cuối cùng trong một danh sách (list). Nếu bạn cung cấp một chỉ số cho pop(), nó sẽ loại bỏ và trả về phần tử ở chỉ số đó trong danh sách sách .\n",
    "* Cú pháp : phantu_loai_bo = danh_sach.pop([index]) \n",
    "* phantu_loai_bo: Phần tử cuối cùng (hoặc phần tử có chỉ số index) được loại bỏ và trả về.\n",
    "* index (tùy chọn): Chỉ số của phần tử mà bạn muốn loại bỏ. Nếu không chỉ định, pop() sẽ loại bỏ và trả về phần tử cuối cùng của danh sách."
   ]
  },
  {
   "cell_type": "markdown",
   "id": "9c6f6bf9",
   "metadata": {},
   "source": [
    "# BÀI 3"
   ]
  },
  {
   "cell_type": "markdown",
   "id": "b6b558b4",
   "metadata": {},
   "source": [
    "<center>\n",
    "    <img src='images/BAI3.png' width='600px'>\n",
    "</center>"
   ]
  },
  {
   "cell_type": "code",
   "execution_count": 24,
   "id": "16b70cdd",
   "metadata": {},
   "outputs": [
    {
     "name": "stdout",
     "output_type": "stream",
     "text": [
      "Nhập số tháng x: 3\n",
      "Trong rừng có: 16 con thỏ\n"
     ]
    }
   ],
   "source": [
    "# Nhập số tháng x từ người dùng\n",
    "x = int(input(\"Nhập số tháng x: \"))\n",
    "\n",
    "# Ban đầu có 2 con thỏ\n",
    "so_tho_ban_dau = 2\n",
    "\n",
    "# Tính số lượng thỏ sau x tháng\n",
    "so_tho_sau_x_thang = so_tho_ban_dau * (2 ** x)\n",
    "# số thỏ ban đầu nhân với 2 mủ x\n",
    "\n",
    "# Hiển thị kết quả\n",
    "print(\"Trong rừng có:\", so_tho_sau_x_thang, \"con thỏ\")\n"
   ]
  },
  {
   "cell_type": "markdown",
   "id": "2fb90db0",
   "metadata": {},
   "source": [
    "# BÀI 4"
   ]
  },
  {
   "cell_type": "markdown",
   "id": "ddfefb2a",
   "metadata": {},
   "source": [
    "<img src='images/BAI4.png' width='600px'>"
   ]
  },
  {
   "cell_type": "code",
   "execution_count": 25,
   "id": "4f8332fe",
   "metadata": {},
   "outputs": [
    {
     "name": "stdout",
     "output_type": "stream",
     "text": [
      "Số ký tự của đoạn văn trên là : 143\n"
     ]
    }
   ],
   "source": [
    "#Nhập vào chuỗi văn bản :\n",
    "doan_van = 'Nước Việt Nam là một, dân tộc Việt Nam là một. Sông có thể cạn núi có thể mòn, song chân lý ấy không bao giờ thay đổi. (HỒ CHÍ MINH, 1980-1969)'\n",
    "\n",
    "#Đếm ký tự chuỗi bằng hàm \"len()\":\n",
    "so_ky_tu = len(doan_van)\n",
    "\n",
    "print ('Số ký tự của đoạn văn trên là :', so_ky_tu)"
   ]
  },
  {
   "cell_type": "code",
   "execution_count": 26,
   "id": "8ca3b524",
   "metadata": {},
   "outputs": [
    {
     "name": "stdout",
     "output_type": "stream",
     "text": [
      "Có \"hồ chí minh\" trong đoạn văn: True\n",
      "Có \"non song\" trong đoạn văn: False\n"
     ]
    }
   ],
   "source": [
    "#Chuyển đoạn văn trên về văn bản chữ thường\n",
    "doan_van_thuong = doan_van.lower()\n",
    "\n",
    "#Nhập từ cần kiểm tra\n",
    "tu_kiem_tra_1 = 'hồ chí minh'\n",
    "tu_kiem_tra_2 = 'non song'\n",
    "\n",
    "# Kiểm tra xem từ có trong đoạn văn không bằng toán tử \"in\"\n",
    "co_tu_1 = tu_kiem_tra_1 in doan_van_thuong\n",
    "co_tu_2 = tu_kiem_tra_2 in doan_van_thuong\n",
    "\n",
    "print(f'Có \"{tu_kiem_tra_1}\" trong đoạn văn: {co_tu_1}')\n",
    "print(f'Có \"{tu_kiem_tra_2}\" trong đoạn văn: {co_tu_2}')"
   ]
  },
  {
   "cell_type": "code",
   "execution_count": 27,
   "id": "7498c06c",
   "metadata": {
    "scrolled": true
   },
   "outputs": [
    {
     "name": "stdout",
     "output_type": "stream",
     "text": [
      "Các câu trong đoạn văn là:\n",
      "Câu 1:Nước Việt Nam là một, dân tộc Việt Nam là một\n",
      "Câu 2:Sông có thể cạn núi có thể mòn, song chân lý ấy không bao giờ thay đổi\n",
      "Câu 3:(HỒ CHÍ MINH, 1980-1969)\n"
     ]
    }
   ],
   "source": [
    "#Tách đoạn văn thành các câu bởi dấu chấm\n",
    "cau = doan_van.split('.')\n",
    "print ('Các câu trong đoạn văn là:')\n",
    "for i, cau in enumerate(cau) :\n",
    "    print (f'Câu {i + 1}:{cau.strip()}')"
   ]
  },
  {
   "cell_type": "code",
   "execution_count": 28,
   "id": "0a729b69",
   "metadata": {
    "scrolled": true
   },
   "outputs": [
    {
     "name": "stdout",
     "output_type": "stream",
     "text": [
      "Các ký tự khác chữ và số trong đoạn văn là: [' ', ' ', ' ', ' ', ',', ' ', ' ', ' ', ' ', ' ', ' ', '.', ' ', ' ', ' ', ' ', ' ', ' ', ' ', ' ', ',', ' ', ' ', ' ', ' ', ' ', ' ', ' ', ' ', ' ', '.', ' ', '(', ' ', ' ', ',', ' ', '-', ')']\n"
     ]
    }
   ],
   "source": [
    "# Kiểm tra ký tự khác chữ và số\n",
    "ky_tu_khac = [ky_tu for ky_tu in doan_van if not ky_tu.isalnum()]\n",
    "print(\"Các ký tự khác chữ và số trong đoạn văn là:\", ky_tu_khac)"
   ]
  },
  {
   "cell_type": "code",
   "execution_count": 29,
   "id": "f8804492",
   "metadata": {
    "scrolled": true
   },
   "outputs": [
    {
     "name": "stdout",
     "output_type": "stream",
     "text": [
      "Đoạn văn sau khi thay thế:\n",
      "Nước VIỆT NAM là một, dân tộc VIỆT NAM là một. Sông có thể cạn núi có thể mòn, song chân lý ấy không bao giờ thay đổi. (HỒ CHÍ MINH, 1980-1969)\n"
     ]
    }
   ],
   "source": [
    "# Thay thế từ \"Việt Nam\" bằng \"VIỆT NAM\"\n",
    "doan_van_thay_the = doan_van.replace(\"Việt Nam\", \"VIỆT NAM\")\n",
    "print(\"Đoạn văn sau khi thay thế:\")\n",
    "print(doan_van_thay_the)"
   ]
  },
  {
   "cell_type": "markdown",
   "id": "39f6bbc4",
   "metadata": {},
   "source": [
    "# BÀI 5"
   ]
  },
  {
   "cell_type": "markdown",
   "id": "97a4ca14",
   "metadata": {},
   "source": [
    "<img src='images/BAI5.png' width='600px'>"
   ]
  },
  {
   "cell_type": "code",
   "execution_count": 30,
   "id": "3c18e02b",
   "metadata": {},
   "outputs": [
    {
     "name": "stdout",
     "output_type": "stream",
     "text": [
      "Danh sách điểm thi môn Python for Analysis : ['C', 'B', 'D', 'A', 'F', 'A', 'B', 'F', 'B', 'B', 'C', 'A', 'D', 'F', 'B']\n",
      "THỐNG KÊ\n",
      "1. Tổng số học sinh trong lớp: 15\n",
      "2. Số học sinh phải học lại là: 3\n",
      "3. Số học sinh có điểm từ B trở lên là: 8\n",
      "4. Bảng điểm mới:['B', 'D', 'A', 'F', 'A', 'B', 'F', 'B', 'B', 'C', 'A', 'D', 'F']\n"
     ]
    }
   ],
   "source": [
    "# Khởi tạo danh sách điểm thi môn \"Python for Analysis\"\n",
    "diem_thi = ['C', 'B', 'D', 'A', 'F', 'A', 'B', 'F', 'B', 'B', 'C', 'A', 'D', 'F', 'B']\n",
    "\n",
    "print(f'Danh sách điểm thi môn Python for Analysis : {diem_thi}')\n",
    "#_____________________________________________________________________________________________________\n",
    "\n",
    "# THỐNG KÊ\n",
    "print('THỐNG KÊ')\n",
    "\n",
    "# 1. Số sinh viên trong lớp\n",
    "so_sinh_vien = len(diem_thi)\n",
    "\n",
    "print(f'1. Tổng số học sinh trong lớp: {so_sinh_vien}')\n",
    "\n",
    "      \n",
    "# 2. Số sinh viên phải học lại (điểm F)\n",
    "so_sv_hoc_lai = diem_thi.count('F')\n",
    "\n",
    "print(f'2. Số học sinh phải học lại là: {so_sv_hoc_lai}')\n",
    "      \n",
    "      \n",
    "# 3. Số sinh viên có điểm từ B trở lên (B, A)\n",
    "so_sv_diem_b_tro_len = sum(diem in ['B', 'A'] for diem in diem_thi)\n",
    "      \n",
    "print(f'3. Số học sinh có điểm từ B trở lên là: {so_sv_diem_b_tro_len}')\n",
    "      \n",
    "      \n",
    "# 4. Loại bỏ điểm của sinh viên đầu tiên và cuối cùng\n",
    "if so_sinh_vien >= 2:\n",
    "    diem_sv_dau = diem_thi.pop(0)\n",
    "    diem_sv_cuoi = diem_thi.pop(-1)\n",
    "      \n",
    "# Tạo bảng điểm mới bằng cách sao chép danh sách điểm còn lại\n",
    "bang_diem_moi = diem_thi[:]\n",
    "      \n",
    "print(f'4. Bảng điểm mới:{bang_diem_moi}')\n",
    "\n",
    "\n"
   ]
  },
  {
   "cell_type": "code",
   "execution_count": null,
   "id": "e92c3612",
   "metadata": {},
   "outputs": [],
   "source": []
  }
 ],
 "metadata": {
  "kernelspec": {
   "display_name": "Python 3 (ipykernel)",
   "language": "python",
   "name": "python3"
  },
  "language_info": {
   "codemirror_mode": {
    "name": "ipython",
    "version": 3
   },
   "file_extension": ".py",
   "mimetype": "text/x-python",
   "name": "python",
   "nbconvert_exporter": "python",
   "pygments_lexer": "ipython3",
   "version": "3.9.13"
  }
 },
 "nbformat": 4,
 "nbformat_minor": 5
}
